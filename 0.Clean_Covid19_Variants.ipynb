{
 "cells": [
  {
   "cell_type": "code",
   "execution_count": 3,
   "metadata": {},
   "outputs": [
    {
     "name": "stderr",
     "output_type": "stream",
     "text": [
      "starting snps: 7542185\n",
      "\n"
     ]
    }
   ],
   "source": [
    "suppressMessages(library(data.table))\n",
    "suppressMessages(library(dplyr))\n",
    "\n",
    "filename = \"covid19_snps/COVID19_HGI_A2_ALL_leave_23andme_20210107.b37.txt\"\n",
    "covid_gwas = fread(filename, data.table = F)\n",
    "\n",
    "message(paste(\"starting snps:\", nrow(covid_gwas)))"
   ]
  },
  {
   "cell_type": "code",
   "execution_count": 5,
   "metadata": {},
   "outputs": [
    {
     "name": "stderr",
     "output_type": "stream",
     "text": [
      "removing duplicate snps ==========\n",
      "\n",
      "snps left: 7542185\n",
      "\n",
      "removing ambiguous snps ==========\n",
      "\n",
      "snps left: 6442586\n",
      "\n",
      "labeling lead snps ========\n",
      "\n"
     ]
    },
    {
     "data": {
      "text/html": [
       "<table class=\"dataframe\">\n",
       "<caption>A data.frame: 7 × 13</caption>\n",
       "<thead>\n",
       "\t<tr><th scope=col>CHR</th><th scope=col>POS</th><th scope=col>REF</th><th scope=col>ALT</th><th scope=col>SNP</th><th scope=col>all_meta_N</th><th scope=col>all_inv_var_meta_beta</th><th scope=col>all_inv_var_meta_sebeta</th><th scope=col>all_inv_var_meta_p</th><th scope=col>all_inv_var_het_p</th><th scope=col>all_meta_sample_N</th><th scope=col>all_meta_AF</th><th scope=col>rsid</th></tr>\n",
       "\t<tr><th scope=col>&lt;int&gt;</th><th scope=col>&lt;int&gt;</th><th scope=col>&lt;chr&gt;</th><th scope=col>&lt;chr&gt;</th><th scope=col>&lt;chr&gt;</th><th scope=col>&lt;int&gt;</th><th scope=col>&lt;dbl&gt;</th><th scope=col>&lt;dbl&gt;</th><th scope=col>&lt;dbl&gt;</th><th scope=col>&lt;dbl&gt;</th><th scope=col>&lt;int&gt;</th><th scope=col>&lt;dbl&gt;</th><th scope=col>&lt;chr&gt;</th></tr>\n",
       "</thead>\n",
       "<tbody>\n",
       "\t<tr><td> 3</td><td> 45899651</td><td>A</td><td>G</td><td>3:45899651:A:G  </td><td>16</td><td> 0.63527</td><td>0.043464</td><td>2.219e-48</td><td>0.0548100</td><td>711838</td><td>0.07506</td><td>rs34326463 </td></tr>\n",
       "\t<tr><td>19</td><td>  4719443</td><td>G</td><td>A</td><td>19:4719443:G:A  </td><td>18</td><td> 0.24627</td><td>0.026120</td><td>4.174e-21</td><td>0.3561000</td><td>714592</td><td>0.32790</td><td>rs2109069  </td></tr>\n",
       "\t<tr><td>21</td><td> 34615210</td><td>T</td><td>C</td><td>21:34615210:T:C </td><td>18</td><td>-0.20152</td><td>0.026152</td><td>1.301e-14</td><td>0.6625000</td><td>714592</td><td>0.66230</td><td>rs13050728 </td></tr>\n",
       "\t<tr><td>12</td><td>113381956</td><td>C</td><td>T</td><td>12:113381956:C:T</td><td>18</td><td> 0.18936</td><td>0.026007</td><td>3.308e-13</td><td>0.8415000</td><td>714592</td><td>0.67330</td><td>rs2269899  </td></tr>\n",
       "\t<tr><td> 6</td><td> 31121232</td><td>T</td><td>C</td><td>6:31121232:T:C  </td><td>18</td><td> 0.27497</td><td>0.039770</td><td>4.713e-12</td><td>0.0001754</td><td>714592</td><td>0.09981</td><td>rs111837807</td></tr>\n",
       "\t<tr><td>17</td><td> 47940666</td><td>C</td><td>T</td><td>17:47940666:C:T </td><td>16</td><td> 0.39990</td><td>0.069472</td><td>8.597e-09</td><td>0.5526000</td><td>710955</td><td>0.03468</td><td>rs77534576 </td></tr>\n",
       "\t<tr><td> 7</td><td> 54647894</td><td>A</td><td>C</td><td>7:54647894:A:C  </td><td>14</td><td> 0.19114</td><td>0.033706</td><td>1.422e-08</td><td>0.0001394</td><td>472724</td><td>0.14830</td><td>rs622568   </td></tr>\n",
       "</tbody>\n",
       "</table>\n"
      ],
      "text/latex": [
       "A data.frame: 7 × 13\n",
       "\\begin{tabular}{lllllllllllll}\n",
       " CHR & POS & REF & ALT & SNP & all\\_meta\\_N & all\\_inv\\_var\\_meta\\_beta & all\\_inv\\_var\\_meta\\_sebeta & all\\_inv\\_var\\_meta\\_p & all\\_inv\\_var\\_het\\_p & all\\_meta\\_sample\\_N & all\\_meta\\_AF & rsid\\\\\n",
       " <int> & <int> & <chr> & <chr> & <chr> & <int> & <dbl> & <dbl> & <dbl> & <dbl> & <int> & <dbl> & <chr>\\\\\n",
       "\\hline\n",
       "\t  3 &  45899651 & A & G & 3:45899651:A:G   & 16 &  0.63527 & 0.043464 & 2.219e-48 & 0.0548100 & 711838 & 0.07506 & rs34326463 \\\\\n",
       "\t 19 &   4719443 & G & A & 19:4719443:G:A   & 18 &  0.24627 & 0.026120 & 4.174e-21 & 0.3561000 & 714592 & 0.32790 & rs2109069  \\\\\n",
       "\t 21 &  34615210 & T & C & 21:34615210:T:C  & 18 & -0.20152 & 0.026152 & 1.301e-14 & 0.6625000 & 714592 & 0.66230 & rs13050728 \\\\\n",
       "\t 12 & 113381956 & C & T & 12:113381956:C:T & 18 &  0.18936 & 0.026007 & 3.308e-13 & 0.8415000 & 714592 & 0.67330 & rs2269899  \\\\\n",
       "\t  6 &  31121232 & T & C & 6:31121232:T:C   & 18 &  0.27497 & 0.039770 & 4.713e-12 & 0.0001754 & 714592 & 0.09981 & rs111837807\\\\\n",
       "\t 17 &  47940666 & C & T & 17:47940666:C:T  & 16 &  0.39990 & 0.069472 & 8.597e-09 & 0.5526000 & 710955 & 0.03468 & rs77534576 \\\\\n",
       "\t  7 &  54647894 & A & C & 7:54647894:A:C   & 14 &  0.19114 & 0.033706 & 1.422e-08 & 0.0001394 & 472724 & 0.14830 & rs622568   \\\\\n",
       "\\end{tabular}\n"
      ],
      "text/markdown": [
       "\n",
       "A data.frame: 7 × 13\n",
       "\n",
       "| CHR &lt;int&gt; | POS &lt;int&gt; | REF &lt;chr&gt; | ALT &lt;chr&gt; | SNP &lt;chr&gt; | all_meta_N &lt;int&gt; | all_inv_var_meta_beta &lt;dbl&gt; | all_inv_var_meta_sebeta &lt;dbl&gt; | all_inv_var_meta_p &lt;dbl&gt; | all_inv_var_het_p &lt;dbl&gt; | all_meta_sample_N &lt;int&gt; | all_meta_AF &lt;dbl&gt; | rsid &lt;chr&gt; |\n",
       "|---|---|---|---|---|---|---|---|---|---|---|---|---|\n",
       "|  3 |  45899651 | A | G | 3:45899651:A:G   | 16 |  0.63527 | 0.043464 | 2.219e-48 | 0.0548100 | 711838 | 0.07506 | rs34326463  |\n",
       "| 19 |   4719443 | G | A | 19:4719443:G:A   | 18 |  0.24627 | 0.026120 | 4.174e-21 | 0.3561000 | 714592 | 0.32790 | rs2109069   |\n",
       "| 21 |  34615210 | T | C | 21:34615210:T:C  | 18 | -0.20152 | 0.026152 | 1.301e-14 | 0.6625000 | 714592 | 0.66230 | rs13050728  |\n",
       "| 12 | 113381956 | C | T | 12:113381956:C:T | 18 |  0.18936 | 0.026007 | 3.308e-13 | 0.8415000 | 714592 | 0.67330 | rs2269899   |\n",
       "|  6 |  31121232 | T | C | 6:31121232:T:C   | 18 |  0.27497 | 0.039770 | 4.713e-12 | 0.0001754 | 714592 | 0.09981 | rs111837807 |\n",
       "| 17 |  47940666 | C | T | 17:47940666:C:T  | 16 |  0.39990 | 0.069472 | 8.597e-09 | 0.5526000 | 710955 | 0.03468 | rs77534576  |\n",
       "|  7 |  54647894 | A | C | 7:54647894:A:C   | 14 |  0.19114 | 0.033706 | 1.422e-08 | 0.0001394 | 472724 | 0.14830 | rs622568    |\n",
       "\n"
      ],
      "text/plain": [
       "  CHR POS       REF ALT SNP              all_meta_N all_inv_var_meta_beta\n",
       "1  3   45899651 A   G   3:45899651:A:G   16          0.63527             \n",
       "2 19    4719443 G   A   19:4719443:G:A   18          0.24627             \n",
       "3 21   34615210 T   C   21:34615210:T:C  18         -0.20152             \n",
       "4 12  113381956 C   T   12:113381956:C:T 18          0.18936             \n",
       "5  6   31121232 T   C   6:31121232:T:C   18          0.27497             \n",
       "6 17   47940666 C   T   17:47940666:C:T  16          0.39990             \n",
       "7  7   54647894 A   C   7:54647894:A:C   14          0.19114             \n",
       "  all_inv_var_meta_sebeta all_inv_var_meta_p all_inv_var_het_p\n",
       "1 0.043464                2.219e-48          0.0548100        \n",
       "2 0.026120                4.174e-21          0.3561000        \n",
       "3 0.026152                1.301e-14          0.6625000        \n",
       "4 0.026007                3.308e-13          0.8415000        \n",
       "5 0.039770                4.713e-12          0.0001754        \n",
       "6 0.069472                8.597e-09          0.5526000        \n",
       "7 0.033706                1.422e-08          0.0001394        \n",
       "  all_meta_sample_N all_meta_AF rsid       \n",
       "1 711838            0.07506     rs34326463 \n",
       "2 714592            0.32790     rs2109069  \n",
       "3 714592            0.66230     rs13050728 \n",
       "4 714592            0.67330     rs2269899  \n",
       "5 714592            0.09981     rs111837807\n",
       "6 710955            0.03468     rs77534576 \n",
       "7 472724            0.14830     rs622568   "
      ]
     },
     "metadata": {},
     "output_type": "display_data"
    }
   ],
   "source": [
    "message(\"removing duplicate snps ==========\")\n",
    "dup_snps = covid_gwas$SNP[which(duplicated(covid_gwas$SNP) == T)]\n",
    "covid_gwas_filtered = covid_gwas[!covid_gwas$SNP %in% dup_snps,]\n",
    "message(paste(\"snps left:\", nrow(covid_gwas_filtered)))\n",
    "\n",
    "message(\"removing ambiguous snps ==========\")\n",
    "ambig_snps = covid_gwas_filtered[(covid_gwas_filtered$REF == \"A\" & covid_gwas_filtered$ALT == \"T\") | \n",
    "                                 (covid_gwas_filtered$REF == \"T\" & covid_gwas_filtered$ALT == \"A\") |\n",
    "                                 (covid_gwas_filtered$REF == \"G\" & covid_gwas_filtered$ALT == \"C\") |\n",
    "                                 (covid_gwas_filtered$REF == \"C\" & covid_gwas_filtered$ALT == \"G\") ,]\n",
    "covid_gwas_filtered = covid_gwas_filtered[!covid_gwas_filtered$SNP %in% ambig_snps$SNP,]\n",
    "message(paste(\"snps left:\", nrow(covid_gwas_filtered)))\n",
    "\n",
    "message(\"labeling lead snps ========\")\n",
    "leads = c(\"3:45899651:A:G\", \"19:4719443:G:A\", \"21:34615210:T:C\", \"12:113381956:C:T\", \"17:47940666:C:T\", \"6:31121232:T:C\", \"7:54647894:A:C\")\n",
    "colnames(covid_gwas_filtered)[1] = \"CHR\"\n",
    "covid_gwas_filtered %>% arrange(all_inv_var_meta_p) %>% filter(SNP %in% leads)\n",
    "covid_gwas_filtered$is_lead = ifelse(covid_gwas_filtered$SNP %in% leads, TRUE, FALSE)\n",
    "\n",
    "fwrite(covid_gwas_filtered, \"covid19_snps/COVID19_HGI_A2_filtered.txt\", row.names = F, sep = \"\\t\")\n",
    "write.table(covid_gwas_filtered$SNP, \"COVID19_HGI_A2_filtered.sigsnps\", row.names = F, sep = \"\\t\", col.names = F, quote =  F)\n"
   ]
  },
  {
   "cell_type": "code",
   "execution_count": null,
   "metadata": {},
   "outputs": [],
   "source": []
  }
 ],
 "metadata": {
  "kernelspec": {
   "display_name": "R 4.0",
   "language": "R",
   "name": "ir40"
  },
  "language_info": {
   "codemirror_mode": "r",
   "file_extension": ".r",
   "mimetype": "text/x-r-source",
   "name": "R",
   "pygments_lexer": "r",
   "version": "4.0.1"
  }
 },
 "nbformat": 4,
 "nbformat_minor": 2
}
